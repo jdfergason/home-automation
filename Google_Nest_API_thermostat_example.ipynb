{
  "nbformat": 4,
  "nbformat_minor": 0,
  "metadata": {
    "colab": {
      "name": "Google Nest API thermostat example",
      "provenance": [],
      "include_colab_link": true
    },
    "kernelspec": {
      "name": "python3",
      "display_name": "Python 3"
    }
  },
  "cells": [
    {
      "cell_type": "markdown",
      "metadata": {
        "id": "view-in-github",
        "colab_type": "text"
      },
      "source": [
        "<a href=\"https://colab.research.google.com/github/jdfergason/home-automation/blob/main/Google_Nest_API_thermostat_example.ipynb\" target=\"_parent\"><img src=\"https://colab.research.google.com/assets/colab-badge.svg\" alt=\"Open In Colab\"/></a>"
      ]
    },
    {
      "cell_type": "markdown",
      "metadata": {
        "id": "L1Ww7gZGrYWF"
      },
      "source": [
        "# Example for making Nest API calls\n",
        "\n",
        "Please start by making a copy of this notebook.\n",
        "\n",
        "## Enter your credentials\n",
        "Enter your credentials and run the cell to generate a login URL. Click the URL and log in to your Google account."
      ]
    },
    {
      "cell_type": "code",
      "metadata": {
        "id": "s5P9dqaHZIV1",
        "colab": {
          "base_uri": "https://localhost:8080/"
        },
        "outputId": "d4232588-d8d8-42d0-d655-8c95df54c75f"
      },
      "source": [
        "project_id = 'f07a2511-46a0-4e99-aca3-38c1fa901061'\n",
        "client_id = '536634890189-2f8md4aug21v5eu3uacvgju15kn33d1c.apps.googleusercontent.com'\n",
        "client_secret = 'KSAr1lny4nrHFs3GHgdu7-Sk'\n",
        "redirect_uri = 'http://automate.corwynn.com:8000/auth'\n",
        "\n",
        "url = 'https://nestservices.google.com/partnerconnections/'+project_id+'/auth?redirect_uri='+redirect_uri+'&access_type=offline&prompt=consent&client_id='+client_id+'&response_type=code&scope=https://www.googleapis.com/auth/sdm.service'\n",
        "print(\"Go to this URL to log in:\")\n",
        "print(url)"
      ],
      "execution_count": 3,
      "outputs": [
        {
          "output_type": "stream",
          "text": [
            "Go to this URL to log in:\n",
            "https://nestservices.google.com/partnerconnections/f07a2511-46a0-4e99-aca3-38c1fa901061/auth?redirect_uri=http://automate.corwynn.com:8000/auth&access_type=offline&prompt=consent&client_id=536634890189-2f8md4aug21v5eu3uacvgju15kn33d1c.apps.googleusercontent.com&response_type=code&scope=https://www.googleapis.com/auth/sdm.service\n"
          ],
          "name": "stdout"
        }
      ]
    },
    {
      "cell_type": "markdown",
      "metadata": {
        "id": "M51DzpbiWBNO"
      },
      "source": [
        "After logging in you are sent to URL you specified as redirect_url. Google added a query to end that looks like this: ?code=.....&scope=...\n",
        "Copy the part between code= and &scope= and add it below:"
      ]
    },
    {
      "cell_type": "code",
      "metadata": {
        "id": "JC0_nQ14ZIRM"
      },
      "source": [
        "code = '4/0AY0e-g5hYjRmM8-wL8Cs3qLAKkTXn3oVLVpa3ED_Y9vD7NSbMtwqOuH9v1sCsKhccH4_Bg'"
      ],
      "execution_count": 14,
      "outputs": []
    },
    {
      "cell_type": "markdown",
      "metadata": {
        "id": "9b_XDcoHYT0S"
      },
      "source": [
        "## Get tokens\n",
        "Now we can use this code to retrieve an access token and a refresh token:"
      ]
    },
    {
      "cell_type": "code",
      "metadata": {
        "id": "IRH6FsK-ZIKc",
        "colab": {
          "base_uri": "https://localhost:8080/"
        },
        "outputId": "c810539f-1f71-439d-8b35-0fd9768de388"
      },
      "source": [
        "# Get tokens\n",
        "\n",
        "import requests\n",
        "\n",
        "params = (\n",
        "    ('client_id', client_id),\n",
        "    ('client_secret', client_secret),\n",
        "    ('code', code),\n",
        "    ('grant_type', 'authorization_code'),\n",
        "    ('redirect_uri', redirect_uri),\n",
        ")\n",
        "\n",
        "response = requests.post('https://www.googleapis.com/oauth2/v4/token', params=params)\n",
        "\n",
        "response_json = response.json()\n",
        "access_token = response_json['token_type'] + ' ' + str(response_json['access_token'])\n",
        "print('Access token: ' + access_token)\n",
        "refresh_token = response_json['refresh_token']\n",
        "print('Refresh token: ' + refresh_token)"
      ],
      "execution_count": 15,
      "outputs": [
        {
          "output_type": "stream",
          "text": [
            "Access token: Bearer ya29.a0AfH6SMB-DOKNtfBK6QXk94jiLtGDUPObuK-Bom2HJqMqQwrlY6YXKCMFw35QdW3GmAp4B-g6P2z-_e7tiEQVOYWc1u-Y1w2dGtSLosOUGthq-Y6daKN-4B8s21OvlVwjXURWtZxzrozigAUi98wMoweUaTS7cRnuvqLXwl94EEw\n",
            "Refresh token: 1//06sT5X3hG0dhKCgYIARAAGAYSNwF-L9IrRpkPSUoDUGJEfsWwMSvnmk5WP2OWhGEi91iqS6U5zYouA3lx8MLXREQldCiZUTUj3io\n"
          ],
          "name": "stdout"
        }
      ]
    },
    {
      "cell_type": "markdown",
      "metadata": {
        "id": "eKeu9OvYZPIf"
      },
      "source": [
        "## Refresh access token\n",
        "The access token is only valid for 60 minutes. You can use the refresh token to renew it."
      ]
    },
    {
      "cell_type": "code",
      "metadata": {
        "id": "MzfzpFAnfPAq",
        "colab": {
          "base_uri": "https://localhost:8080/"
        },
        "outputId": "f5c7e889-1db1-4de1-91f2-7d903af3946b"
      },
      "source": [
        "# Refresh token\n",
        "\n",
        "params = (\n",
        "    ('client_id', client_id),\n",
        "    ('client_secret', client_secret),\n",
        "    ('refresh_token', refresh_token),\n",
        "    ('grant_type', 'refresh_token'),\n",
        ")\n",
        "\n",
        "response = requests.post('https://www.googleapis.com/oauth2/v4/token', params=params)\n",
        "\n",
        "response_json = response.json()\n",
        "access_token = response_json['token_type'] + ' ' + response_json['access_token']\n",
        "print('Access token: ' + access_token)"
      ],
      "execution_count": 6,
      "outputs": [
        {
          "output_type": "stream",
          "text": [
            "Access token: Bearer ya29.a0AfH6SMA5hEODr2YM7H5oucYN4zezaL_sKZb772a_JsTBlGAB7gfzxmXvk7okVZapODLHmpXXwuaQ2IZyJc_OrMGFxN-yMd7n1CwshNDsg8qbcvRVLz5xVdbwwmhNpbrInkrL6uyts7XQsL2VVfuBOE57pwappfKYAgltpHTwFjU\n"
          ],
          "name": "stdout"
        }
      ]
    },
    {
      "cell_type": "markdown",
      "metadata": {
        "id": "HoqFyCZLaaQP"
      },
      "source": [
        "## Get structures and devices\n",
        "Now lets get some information about what devices we have access to and where these are \"located\". Devices are part of a structure (such as your home). We can get information about the structures we have access to:"
      ]
    },
    {
      "cell_type": "code",
      "metadata": {
        "id": "6VgsjvvRbXgv",
        "colab": {
          "base_uri": "https://localhost:8080/"
        },
        "outputId": "8ea9e0a7-3bce-4f63-dbf5-eed833991b52"
      },
      "source": [
        "# Get structures\n",
        "\n",
        "url_structures = 'https://smartdevicemanagement.googleapis.com/v1/enterprises/' + project_id + '/structures'\n",
        "\n",
        "headers = {\n",
        "    'Content-Type': 'application/json',\n",
        "    'Authorization': access_token,\n",
        "}\n",
        "\n",
        "response = requests.get(url_structures, headers=headers)\n",
        "\n",
        "print(response.json())"
      ],
      "execution_count": 16,
      "outputs": [
        {
          "output_type": "stream",
          "text": [
            "{'structures': [{'name': 'enterprises/f07a2511-46a0-4e99-aca3-38c1fa901061/structures/AVPHwEuzrSjSge3q_TsajMLdVPjq-MceRT3XEei7yDJ2rv7MGoTBDMkx9UjQS59OjNAdLLtGBGpE-329byewm8EKIGhpew', 'traits': {'sdm.structures.traits.Info': {'customName': 'Home'}}}]}\n"
          ],
          "name": "stdout"
        }
      ]
    },
    {
      "cell_type": "markdown",
      "metadata": {
        "id": "Y9AFteTya1eM"
      },
      "source": [
        "But we can also directly retrieve the devices we have access to:"
      ]
    },
    {
      "cell_type": "code",
      "metadata": {
        "id": "ndOtYbrNjiE2",
        "colab": {
          "base_uri": "https://localhost:8080/",
          "height": 249
        },
        "outputId": "e4e963bd-dab6-4f39-ff2c-b3186bd86638"
      },
      "source": [
        "# Get devices\n",
        "\n",
        "url_get_devices = 'https://smartdevicemanagement.googleapis.com/v1/enterprises/' + project_id + '/devices'\n",
        "# url_get_devices = 'https://smartdevicemanagement.googleapis.com/v1/enterprises/devices'\n",
        "\n",
        "headers = {\n",
        "    'Content-Type': 'application/json',\n",
        "    'Authorization': access_token,\n",
        "}\n",
        "\n",
        "response = requests.get(url_get_devices, headers=headers)\n",
        "\n",
        "print(response.json())\n",
        "\n",
        "response_json = response.json()\n",
        "device_0_name = response_json['devices'][0]['name']\n",
        "# device_0_name = 'enterprises/f07a2511-46a0-4e99-aca3-38c1fa901061/structures/AVPHwEuzrSjSge3q_TsajMLdVPjq-MceRT3XEei7yDJ2rv7MGoTBDMkx9UjQS59OjNAdLLtGBGpE-329byewm8EKIGhpew'\n",
        "print(device_0_name)"
      ],
      "execution_count": 26,
      "outputs": [
        {
          "output_type": "stream",
          "text": [
            "{}\n"
          ],
          "name": "stdout"
        },
        {
          "output_type": "error",
          "ename": "KeyError",
          "evalue": "ignored",
          "traceback": [
            "\u001b[0;31m---------------------------------------------------------------------------\u001b[0m",
            "\u001b[0;31mKeyError\u001b[0m                                  Traceback (most recent call last)",
            "\u001b[0;32m<ipython-input-26-b1b2d99d7667>\u001b[0m in \u001b[0;36m<module>\u001b[0;34m()\u001b[0m\n\u001b[1;32m     14\u001b[0m \u001b[0;34m\u001b[0m\u001b[0m\n\u001b[1;32m     15\u001b[0m \u001b[0mresponse_json\u001b[0m \u001b[0;34m=\u001b[0m \u001b[0mresponse\u001b[0m\u001b[0;34m.\u001b[0m\u001b[0mjson\u001b[0m\u001b[0;34m(\u001b[0m\u001b[0;34m)\u001b[0m\u001b[0;34m\u001b[0m\u001b[0;34m\u001b[0m\u001b[0m\n\u001b[0;32m---> 16\u001b[0;31m \u001b[0mdevice_0_name\u001b[0m \u001b[0;34m=\u001b[0m \u001b[0mresponse_json\u001b[0m\u001b[0;34m[\u001b[0m\u001b[0;34m'devices'\u001b[0m\u001b[0;34m]\u001b[0m\u001b[0;34m[\u001b[0m\u001b[0;36m0\u001b[0m\u001b[0;34m]\u001b[0m\u001b[0;34m[\u001b[0m\u001b[0;34m'name'\u001b[0m\u001b[0;34m]\u001b[0m\u001b[0;34m\u001b[0m\u001b[0;34m\u001b[0m\u001b[0m\n\u001b[0m\u001b[1;32m     17\u001b[0m \u001b[0;31m# device_0_name = 'enterprises/f07a2511-46a0-4e99-aca3-38c1fa901061/structures/AVPHwEuzrSjSge3q_TsajMLdVPjq-MceRT3XEei7yDJ2rv7MGoTBDMkx9UjQS59OjNAdLLtGBGpE-329byewm8EKIGhpew'\u001b[0m\u001b[0;34m\u001b[0m\u001b[0;34m\u001b[0m\u001b[0;34m\u001b[0m\u001b[0m\n\u001b[1;32m     18\u001b[0m \u001b[0mprint\u001b[0m\u001b[0;34m(\u001b[0m\u001b[0mdevice_0_name\u001b[0m\u001b[0;34m)\u001b[0m\u001b[0;34m\u001b[0m\u001b[0;34m\u001b[0m\u001b[0m\n",
            "\u001b[0;31mKeyError\u001b[0m: 'devices'"
          ]
        }
      ]
    },
    {
      "cell_type": "markdown",
      "metadata": {
        "id": "JeATtkCsbOek"
      },
      "source": [
        "## Get device stats\n",
        "For this example I simply took the first item of the array of devices. I assume most people probably have one Nest thermostat anyway.\n",
        "\n",
        "The name of a device can be used to retrieve data from this device and to send commands to it. Lets get soms stats first:"
      ]
    },
    {
      "cell_type": "code",
      "metadata": {
        "id": "0vwNzXCom4ti",
        "colab": {
          "base_uri": "https://localhost:8080/",
          "height": 269
        },
        "outputId": "22981b2d-e19a-4b50-e354-3459fbfd207f"
      },
      "source": [
        "# Get device stats\n",
        "\n",
        "url_get_device = 'https://smartdevicemanagement.googleapis.com/v1/' + device_0_name\n",
        "\n",
        "headers = {\n",
        "    'Content-Type': 'application/json',\n",
        "    'Authorization': access_token,\n",
        "}\n",
        "\n",
        "response = requests.get(url_get_device, headers=headers)\n",
        "\n",
        "response_json = response.json()\n",
        "\n",
        "print(response_json)\n",
        "\n",
        "humidity = response_json['traits']['sdm.devices.traits.Humidity']['ambientHumidityPercent']\n",
        "print('Humidity:', humidity)\n",
        "temperature = response_json['traits']['sdm.devices.traits.Temperature']['ambientTemperatureCelsius']\n",
        "print('Temperature:', temperature)"
      ],
      "execution_count": 13,
      "outputs": [
        {
          "output_type": "stream",
          "text": [
            "{'name': 'enterprises/f07a2511-46a0-4e99-aca3-38c1fa901061/structures/AVPHwEuzrSjSge3q_TsajMLdVPjq-MceRT3XEei7yDJ2rv7MGoTBDMkx9UjQS59OjNAdLLtGBGpE-329byewm8EKIGhpew', 'traits': {'sdm.structures.traits.Info': {'customName': 'Home'}}}\n"
          ],
          "name": "stdout"
        },
        {
          "output_type": "error",
          "ename": "KeyError",
          "evalue": "ignored",
          "traceback": [
            "\u001b[0;31m---------------------------------------------------------------------------\u001b[0m",
            "\u001b[0;31mKeyError\u001b[0m                                  Traceback (most recent call last)",
            "\u001b[0;32m<ipython-input-13-488594c96c06>\u001b[0m in \u001b[0;36m<module>\u001b[0;34m()\u001b[0m\n\u001b[1;32m     14\u001b[0m \u001b[0mprint\u001b[0m\u001b[0;34m(\u001b[0m\u001b[0mresponse_json\u001b[0m\u001b[0;34m)\u001b[0m\u001b[0;34m\u001b[0m\u001b[0;34m\u001b[0m\u001b[0m\n\u001b[1;32m     15\u001b[0m \u001b[0;34m\u001b[0m\u001b[0m\n\u001b[0;32m---> 16\u001b[0;31m \u001b[0mhumidity\u001b[0m \u001b[0;34m=\u001b[0m \u001b[0mresponse_json\u001b[0m\u001b[0;34m[\u001b[0m\u001b[0;34m'traits'\u001b[0m\u001b[0;34m]\u001b[0m\u001b[0;34m[\u001b[0m\u001b[0;34m'sdm.devices.traits.Humidity'\u001b[0m\u001b[0;34m]\u001b[0m\u001b[0;34m[\u001b[0m\u001b[0;34m'ambientHumidityPercent'\u001b[0m\u001b[0;34m]\u001b[0m\u001b[0;34m\u001b[0m\u001b[0;34m\u001b[0m\u001b[0m\n\u001b[0m\u001b[1;32m     17\u001b[0m \u001b[0mprint\u001b[0m\u001b[0;34m(\u001b[0m\u001b[0;34m'Humidity:'\u001b[0m\u001b[0;34m,\u001b[0m \u001b[0mhumidity\u001b[0m\u001b[0;34m)\u001b[0m\u001b[0;34m\u001b[0m\u001b[0;34m\u001b[0m\u001b[0m\n\u001b[1;32m     18\u001b[0m \u001b[0mtemperature\u001b[0m \u001b[0;34m=\u001b[0m \u001b[0mresponse_json\u001b[0m\u001b[0;34m[\u001b[0m\u001b[0;34m'traits'\u001b[0m\u001b[0;34m]\u001b[0m\u001b[0;34m[\u001b[0m\u001b[0;34m'sdm.devices.traits.Temperature'\u001b[0m\u001b[0;34m]\u001b[0m\u001b[0;34m[\u001b[0m\u001b[0;34m'ambientTemperatureCelsius'\u001b[0m\u001b[0;34m]\u001b[0m\u001b[0;34m\u001b[0m\u001b[0;34m\u001b[0m\u001b[0m\n",
            "\u001b[0;31mKeyError\u001b[0m: 'sdm.devices.traits.Humidity'"
          ]
        }
      ]
    },
    {
      "cell_type": "markdown",
      "metadata": {
        "id": "1da3F2cLcApC"
      },
      "source": [
        "## Set thermostat to HEAT\n",
        "And last but not least, lets send some commands to our thermostat. The cell below contains the code to set the mode to \"HEAT\":"
      ]
    },
    {
      "cell_type": "code",
      "metadata": {
        "id": "5LvlRIxQeVnE"
      },
      "source": [
        "# Set mode to \"HEAT\"\n",
        "\n",
        "url_set_mode = 'https://smartdevicemanagement.googleapis.com/v1/' + device_0_name + ':executeCommand'\n",
        "\n",
        "headers = {\n",
        "    'Content-Type': 'application/json',\n",
        "    'Authorization': access_token,\n",
        "}\n",
        "\n",
        "data = '{ \"command\" : \"sdm.devices.commands.ThermostatMode.SetMode\", \"params\" : { \"mode\" : \"HEAT\" } }'\n",
        "\n",
        "response = requests.post(url_set_mode, headers=headers, data=data)\n",
        "\n",
        "print(response.json())"
      ],
      "execution_count": null,
      "outputs": []
    },
    {
      "cell_type": "markdown",
      "metadata": {
        "id": "RwUit-TQcQk9"
      },
      "source": [
        "## Set a new temperature\n",
        "And finally we can set a temperature by executing this command:"
      ]
    },
    {
      "cell_type": "code",
      "metadata": {
        "id": "7fqun2A0cc7L"
      },
      "source": [
        "set_temp_to = 21.0"
      ],
      "execution_count": null,
      "outputs": []
    },
    {
      "cell_type": "code",
      "metadata": {
        "id": "8lSx-LF1koFp"
      },
      "source": [
        "# Set temperature to set_temp_to degrees\n",
        "\n",
        "url_set_mode = 'https://smartdevicemanagement.googleapis.com/v1/' + device_0_name + ':executeCommand'\n",
        "\n",
        "headers = {\n",
        "    'Content-Type': 'application/json',\n",
        "    'Authorization': access_token,\n",
        "}\n",
        "\n",
        "data = '{\"command\" : \"sdm.devices.commands.ThermostatTemperatureSetpoint.SetHeat\", \"params\" : {\"heatCelsius\" : ' + str(set_temp_to) + '} }'\n",
        "\n",
        "response = requests.post(url_set_mode, headers=headers, data=data)\n",
        "\n",
        "print(response.json())"
      ],
      "execution_count": null,
      "outputs": []
    }
  ]
}